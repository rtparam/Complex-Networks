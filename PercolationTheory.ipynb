{
 "cells": [
  {
   "attachments": {},
   "cell_type": "markdown",
   "metadata": {
    "collapsed": true
   },
   "source": [
    "## Percolation and the Giant Connected Component (GCC)\n",
    "\n",
    "The Giant Connected Component is, like the name suggests, the biggest connected component in a graph. Interestingly when studying this, we come across *percolation*, which is a phenomena existent across fields (e.g. propagation of forest fires, phase trasitions in Ising-like models). The notion of percolation is used to study the emergence of a GCC in Erdős–Rényi Random Graphs $G(n,p)$.\n",
    "\n",
    "\n",
    "\n",
    "Example of percolation of a 2D lattice. In this case you see percolation, i.e., most of the system is connected to each other (in black). <img src=\"https://upload.wikimedia.org/wikipedia/commons/f/f6/Percolation.gif\" alt=\"percolation of a 2D lattice\" width=\"200\" height=\"200\">"
   ]
  },
  {
   "attachments": {},
   "cell_type": "markdown",
   "metadata": {},
   "source": [
    "##  Percolation in Random Graphs\n",
    "Design a method to identify the connected components in any graph $G$. Naturally the properties to study emerge in Erdős–Rényi Random Graphs $G(n,p)$.\n",
    "\n",
    " - If $p=0$ ($G(n,0)$) we have a graph with $n$ vertices and no edges\n",
    " - If $p=1$ ($G(n,1)$) we have a graph with have a fully connected graph, i.e., everyone is connected to everyone (so the GCC is the graph).\n",
    "\n",
    "Analytically if the *mean degree* $c < 1$ there is no GCC, and if $c > 1$, there should be a CGG with some relative size $s$, i.e., number of vertices in the GCC $n_{GCC}$ in comparison with $n$. The mean degree $c=\\frac{p}{n-1}$. Reproduce Newman's result:\n",
    "\n",
    "![](https://cs.slu.edu/~esposito/teaching/1080/webscience/images/random-components-v2.jpg)\n"
   ]
  },
  {
   "cell_type": "code",
   "execution_count": 17,
   "metadata": {},
   "outputs": [],
   "source": [
    "import numpy as np\n",
    "import networkx as nx\n",
    "import matplotlib.pyplot as plt\n",
    "from tqdm import tqdm"
   ]
  },
  {
   "cell_type": "code",
   "execution_count": 6,
   "metadata": {},
   "outputs": [],
   "source": [
    "def connected_component_sizes(G_):\n",
    "\n",
    "    components = list(nx.connected_components(G_))\n",
    "\n",
    "    component_sizes = [len(component) for component in components]\n",
    " \n",
    "    return component_sizes"
   ]
  },
  {
   "cell_type": "code",
   "execution_count": 11,
   "metadata": {},
   "outputs": [],
   "source": [
    "def connected_component_sizes_alternative(G_):\n",
    "\n",
    "    visited = []    \n",
    "    components_sizes = []\n",
    "    \n",
    "    for i in range(G_.number_of_nodes()): \n",
    "        \n",
    "        if i not in visited:\n",
    "            comp_size = 1 \n",
    "            \n",
    "            queue = [i]\n",
    "            visited.append(i) \n",
    "            \n",
    "            while queue: \n",
    "                \n",
    "                for k in list(G_.neighbors(queue[0])):\n",
    "                    if k not in visited:\n",
    "                        queue.append(k)\n",
    "                        visited.append(k) \n",
    "                        \n",
    "                        comp_size += 1\n",
    "                queue.pop(0)\n",
    "                \n",
    "        components_sizes.append(comp_size)\n",
    "            \n",
    "    return components_sizes"
   ]
  },
  {
   "cell_type": "code",
   "execution_count": 38,
   "metadata": {},
   "outputs": [],
   "source": [
    "\n",
    "def GCC_size(N, c_lims=(0, 3.5), res=50, numberpts=50):\n",
    "    \n",
    "    c = np.linspace(min(c_lims), max(c_lims), numberpts) \n",
    "    S = []\n",
    "    \n",
    "    for i in tqdm(c):\n",
    "        max_GCC_size = 0\n",
    "        for j in range(res):\n",
    "            G = nx.erdos_renyi_graph(N, i/(N-1))\n",
    "            component_sizes = connected_component_sizes(G)\n",
    "            max_GCC_size += max(component_sizes)/res\n",
    "            \n",
    "        S.append(max_GCC_size / N)\n",
    "    \n",
    "    return c, S"
   ]
  },
  {
   "cell_type": "code",
   "execution_count": 40,
   "metadata": {},
   "outputs": [],
   "source": [
    "N = 500"
   ]
  },
  {
   "cell_type": "code",
   "execution_count": 41,
   "metadata": {},
   "outputs": [
    {
     "name": "stderr",
     "output_type": "stream",
     "text": [
      "100%|███████████████████████████████████████████| 50/50 [01:02<00:00,  1.25s/it]\n"
     ]
    }
   ],
   "source": [
    "c, S = GCC_size(N)"
   ]
  },
  {
   "cell_type": "code",
   "execution_count": 42,
   "metadata": {},
   "outputs": [
    {
     "data": {
      "text/plain": [
       "<matplotlib.legend.Legend at 0x7feabb73f9a0>"
      ]
     },
     "execution_count": 42,
     "metadata": {},
     "output_type": "execute_result"
    },
    {
     "data": {
      "image/png": "[encoded data removed]",
      "text/plain": [
       "<Figure size 432x288 with 1 Axes>"
      ]
     },
     "metadata": {
      "needs_background": "light"
     },
     "output_type": "display_data"
    }
   ],
   "source": [
    "plt.plot(c, S, ls=\"\", marker='o', label='N={}'.format(N))\n",
    "plt.xlabel(\"<k>=c\")\n",
    "plt.ylabel(\"S [relative size of GCC]\")\n",
    "plt.ylim([0,1.1])\n",
    "plt.legend()"
   ]
  }
 ],
 "metadata": {
  "@webio": {
   "lastCommId": "143fec47b45b49c3881a7d7ea601a84c",
   "lastKernelId": "4a2d3fd1-ce3d-4782-a973-1158449f88a2"
  },
  "kernelspec": {
   "display_name": "Python 3 (ipykernel)",
   "language": "python",
   "name": "python3"
  },
  "language_info": {
   "codemirror_mode": {
    "name": "ipython",
    "version": 3
   },
   "file_extension": ".py",
   "mimetype": "text/x-python",
   "name": "python",
   "nbconvert_exporter": "python",
   "pygments_lexer": "ipython3",
   "version": "3.9.7"
  }
 },
 "nbformat": 4,
 "nbformat_minor": 1
}
