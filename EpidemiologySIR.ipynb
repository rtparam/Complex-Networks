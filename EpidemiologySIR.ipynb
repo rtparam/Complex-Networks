{
 "cells": [
  {
   "cell_type": "markdown",
   "metadata": {},
   "source": [
    "# Epidemic Models"
   ]
  },
  {
   "attachments": {},
   "cell_type": "markdown",
   "metadata": {
    "collapsed": true
   },
   "source": [
    "## The SIR-Model\n",
    "The SIR-model (susceptible-infected-removed model) is an epidemic model which seperates the population into three sub-populations: Susceptible (S), Infected (I) and Recovered/Removed (R) individuals. Susceptible individuals get ill with some rate $\\beta$ and Infected individuals recover or die with some rate $\\gamma$. In the SIR model recovered individuals are not able to get infected by the disease, again. Thus, for the model it does not make a difference if the individual dies or recovers.\n",
    "<img src=\"https://upload.wikimedia.org/wikipedia/commons/thumb/9/93/SIR_Flow_Diagram.svg/1920px-SIR_Flow_Diagram.svg.png\" alt=\"SIR model\" width=\"1000\" height=\"200\">\n",
    "This leads to the following ODE-system\n",
    "\n",
    "$$\n",
    "\\begin{align}\n",
    "    \\frac{dS}{dt} &= - \\beta \\frac{IS}{N},\\\\\n",
    "    \\frac{dI}{dt} &= \\beta \\frac{IS}{N} -\\gamma I,\\\\\n",
    "    \\frac{dR}{dt} &=  \\gamma I.\n",
    "\\end{align}\n",
    "$$\n",
    "\n",
    "The behavior of the dyanmics strongly depends on the ratio $R_0 = \\frac{\\beta}{\\gamma}$, the so called *basic reproduction number* (notice in class we denote $\\gamma$ as $\\alpha$, but there is no actual convention). This number describes how many individuals are infected per sick person. If $R_0 > 1$ an outbreak of the disease is called epidemic, if $R_0 < 1$ an outbreak of the disease is called endemic.\n",
    "\n"
   ]
  },
  {
   "attachments": {},
   "cell_type": "markdown",
   "metadata": {},
   "source": [
    "##  SIR-model on Networks\n",
    "The model as it is written above does not use any information about the social behavior of individuals. For example, a social network follows a power-law distribution, i.e. that some nodes have a much higher degree than other. If an individual with a lot of social contacts (high degree) gets infected, this should change the bevior of the spreading. \n",
    "\n",
    "Consider a population with $N$ individuals where some fraction of the population is infected with some disease. Now, consider that at each time step $t_i$ each infected individual infects his neighbors with a probability $\\beta$. There is also a probability $\\gamma$ for this individual to convalesce in this timestep.This process is repeated.\n"
   ]
  },
  {
   "cell_type": "code",
   "execution_count": 1,
   "metadata": {},
   "outputs": [],
   "source": [
    "import numpy as np\n",
    "import networkx as nx\n",
    "import matplotlib.pyplot as plt"
   ]
  },
  {
   "cell_type": "code",
   "execution_count": 7,
   "metadata": {},
   "outputs": [],
   "source": [
    "def networked_SIR(G_, t_end, I_init, beta, gamma, p_vaccinated):\n",
    "\n",
    "    t_end = t_end\n",
    "\n",
    "    I_init = I_init\n",
    "\n",
    "    beta = beta\n",
    "\n",
    "    gamma = gamma\n",
    "\n",
    "    p_vaccinated = p_vaccinated\n",
    "\n",
    "    S_list = []\n",
    "    I_list = []\n",
    "    R_list = []\n",
    "\n",
    "\n",
    "    node_states = np.random.choice(['S', 'I'], size=G_.number_of_nodes(), p=[1 - I_init, I_init])\n",
    "    \n",
    "    # Vaccinate a portion of the population randomly\n",
    "    num_vaccinated = int(p_vaccinated * G_.number_of_nodes())\n",
    "    vaccinated_nodes = np.random.choice(G_.nodes(), size  = num_vaccinated, replace=False)\n",
    "    node_states[vaccinated_nodes] = 'R'\n",
    "\n",
    "    for t in range(t_end):\n",
    "        \n",
    "        S_list.append(np.count_nonzero(node_states == 'S'))\n",
    "        I_list.append(np.count_nonzero(node_states == 'I'))\n",
    "        R_list.append(np.count_nonzero(node_states == 'R'))\n",
    "\n",
    "        # Iterate through each node and update its state based on the SIR dynamics\n",
    "        for node in G_.nodes():\n",
    "            if node_states[node] == 'I': #check if neighbours of chosen node are susceptible and infect them with probability beta\n",
    "                for neighbor in G_.neighbors(node):\n",
    "                    if node_states[neighbor] == 'S' and np.random.random() < beta:\n",
    "                        node_states[neighbor] = 'I'\n",
    "\n",
    "                # Recover with probability gamma\n",
    "                if np.random.random() < gamma:\n",
    "                    node_states[node] = 'R'\n",
    "\n",
    "    return S_list, I_list, R_list"
   ]
  },
  {
   "attachments": {},
   "cell_type": "markdown",
   "metadata": {},
   "source": [
    "A scale free network model like the Barabasi Albert model serves as a social network model that can be used for this model"
   ]
  },
  {
   "cell_type": "code",
   "execution_count": 8,
   "metadata": {},
   "outputs": [],
   "source": [
    "G = nx.barabasi_albert_graph(5000,10) "
   ]
  },
  {
   "cell_type": "code",
   "execution_count": 9,
   "metadata": {},
   "outputs": [],
   "source": [
    "t_end = 100\n",
    "I_init = 0.01\n",
    "beta = 0.2\n",
    "gamma = 0.1\n",
    "p_vaccinated = 0.3\n",
    "Slist, Ilist, Rlist = networked_SIR(G, t_end, I_init, beta, gamma, p_vaccinated)"
   ]
  },
  {
   "cell_type": "code",
   "execution_count": 10,
   "metadata": {},
   "outputs": [
    {
     "data": {
      "image/png": "[encoded data removed]",
      "text/plain": [
       "<Figure size 432x288 with 1 Axes>"
      ]
     },
     "metadata": {
      "needs_background": "light"
     },
     "output_type": "display_data"
    }
   ],
   "source": [
    "time_steps = range(t_end)\n",
    "plt.plot(time_steps, Slist, label='Susceptible')\n",
    "plt.plot(time_steps, Ilist, label='Infected')\n",
    "plt.plot(time_steps, Rlist, label='Recovered')\n",
    "plt.xlabel('Time')\n",
    "plt.ylabel('Number of Individuals')\n",
    "plt.legend()\n",
    "plt.show()"
   ]
  }
 ],
 "metadata": {
  "@webio": {
   "lastCommId": "143fec47b45b49c3881a7d7ea601a84c",
   "lastKernelId": "4a2d3fd1-ce3d-4782-a973-1158449f88a2"
  },
  "kernelspec": {
   "display_name": "Python 3",
   "language": "python",
   "name": "python3"
  },
  "language_info": {
   "codemirror_mode": {
    "name": "ipython",
    "version": 3
   },
   "file_extension": ".py",
   "mimetype": "text/x-python",
   "name": "python",
   "nbconvert_exporter": "python",
   "pygments_lexer": "ipython3",
   "version": "3.10.2"
  }
 },
 "nbformat": 4,
 "nbformat_minor": 1
}
